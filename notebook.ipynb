{
 "cells": [
  {
   "cell_type": "code",
   "execution_count": 7,
   "metadata": {},
   "outputs": [
    {
     "name": "stdout",
     "output_type": "stream",
     "text": [
      "The autoreload extension is already loaded. To reload it, use:\n",
      "  %reload_ext autoreload\n"
     ]
    }
   ],
   "source": [
    "%load_ext autoreload\n",
    "%autoreload 2"
   ]
  },
  {
   "cell_type": "code",
   "execution_count": 4,
   "metadata": {},
   "outputs": [
    {
     "data": {
      "text/plain": [
       "True"
      ]
     },
     "execution_count": 4,
     "metadata": {},
     "output_type": "execute_result"
    }
   ],
   "source": [
    "import dotenv\n",
    "dotenv.load_dotenv()"
   ]
  },
  {
   "cell_type": "code",
   "execution_count": 8,
   "metadata": {},
   "outputs": [],
   "source": [
    "import cassio\n",
    "cassio.init(auto=True)"
   ]
  },
  {
   "cell_type": "code",
   "execution_count": 9,
   "metadata": {},
   "outputs": [],
   "source": [
    "from knowledge_graph.cassandra_graph_store import CassandraGraphStore\n",
    "graph_store = CassandraGraphStore()"
   ]
  },
  {
   "cell_type": "markdown",
   "metadata": {},
   "source": [
    "# Extracting Knowledge Graph"
   ]
  },
  {
   "cell_type": "markdown",
   "metadata": {},
   "source": [
    "## Using LLMGraphTansformer"
   ]
  },
  {
   "cell_type": "code",
   "execution_count": 10,
   "metadata": {},
   "outputs": [],
   "source": [
    "from langchain_experimental.graph_transformers import LLMGraphTransformer\n",
    "from langchain_openai import ChatOpenAI\n",
    "\n",
    "# Prompt used by LLMGraphTransformer is tuned for Gpt4.\n",
    "llm = ChatOpenAI(temperature=0, model_name=\"gpt-4\")\n",
    "\n",
    "llm_transformer = LLMGraphTransformer(llm=llm)"
   ]
  },
  {
   "cell_type": "code",
   "execution_count": 11,
   "metadata": {},
   "outputs": [
    {
     "name": "stdout",
     "output_type": "stream",
     "text": [
      "Nodes:[Node(id='Marie Curie', type='Person'), Node(id='Pierre Curie', type='Person'), Node(id='Nobel Prize', type='Award'), Node(id='University Of Paris', type='Organization'), Node(id='Polish', type='Nationality'), Node(id='French', type='Nationality'), Node(id='Physicist', type='Profession'), Node(id='Chemist', type='Profession'), Node(id='Radioactivity', type='Scientific concept'), Node(id='Professor', type='Profession')]\n",
      "Relationships:[Relationship(source=Node(id='Marie Curie', type='Person'), target=Node(id='Polish', type='Nationality'), type='HAS_NATIONALITY'), Relationship(source=Node(id='Marie Curie', type='Person'), target=Node(id='French', type='Nationality'), type='HAS_NATIONALITY'), Relationship(source=Node(id='Marie Curie', type='Person'), target=Node(id='Physicist', type='Profession'), type='HAS_PROFESSION'), Relationship(source=Node(id='Marie Curie', type='Person'), target=Node(id='Chemist', type='Profession'), type='HAS_PROFESSION'), Relationship(source=Node(id='Marie Curie', type='Person'), target=Node(id='Radioactivity', type='Scientific concept'), type='RESEARCHED'), Relationship(source=Node(id='Marie Curie', type='Person'), target=Node(id='Nobel Prize', type='Award'), type='WON'), Relationship(source=Node(id='Pierre Curie', type='Person'), target=Node(id='Nobel Prize', type='Award'), type='WON'), Relationship(source=Node(id='Marie Curie', type='Person'), target=Node(id='Pierre Curie', type='Person'), type='MARRIED_TO'), Relationship(source=Node(id='Marie Curie', type='Person'), target=Node(id='University Of Paris', type='Organization'), type='WORKED_AT'), Relationship(source=Node(id='Marie Curie', type='Person'), target=Node(id='Professor', type='Profession'), type='HAS_PROFESSION')]\n"
     ]
    }
   ],
   "source": [
    "from langchain_core.documents import Document\n",
    "\n",
    "text = \"\"\"\n",
    "Marie Curie, was a Polish and naturalised-French physicist and chemist who conducted pioneering research on radioactivity.\n",
    "She was the first woman to win a Nobel Prize, the first person to win a Nobel Prize twice, and the only person to win a Nobel Prize in two scientific fields.\n",
    "Her husband, Pierre Curie, was a co-winner of her first Nobel Prize, making them the first-ever married couple to win the Nobel Prize and launching the Curie family legacy of five Nobel Prizes.\n",
    "She was, in 1906, the first woman to become a professor at the University of Paris.\n",
    "\"\"\"\n",
    "documents = [Document(page_content=text)]\n",
    "graph_documents = llm_transformer.convert_to_graph_documents(documents)\n",
    "print(f\"Nodes:{graph_documents[0].nodes}\")\n",
    "print(f\"Relationships:{graph_documents[0].relationships}\")"
   ]
  },
  {
   "cell_type": "markdown",
   "metadata": {},
   "source": []
  },
  {
   "cell_type": "code",
   "execution_count": 12,
   "metadata": {},
   "outputs": [],
   "source": [
    "# Save the extracted graph documents to the Cassandra Graph Store.\n",
    "graph_store.add_graph_documents(graph_documents)"
   ]
  },
  {
   "cell_type": "markdown",
   "metadata": {},
   "source": [
    "### Optional: Predefine entities / relationships\n",
    "\n",
    "The below configures the `LLMGraphTransformer` with specific kinds of nodes and relationships it is allowed to extract.\n",
    "This is useful for constraining what will be extracted.\n",
    "\n",
    "```python\n",
    "llm_transformer_filtered = LLMGraphTransformer(\n",
    "    llm=llm,\n",
    "    allowed_nodes=[\"Person\", \"Country\", \"Organization\"],\n",
    "    allowed_relationships=[\"NATIONALITY\", \"LOCATED_IN\", \"WORKED_AT\", \"SPOUSE\"],\n",
    ")\n",
    "graph_documents_filtered = llm_transformer_filtered.convert_to_graph_documents(\n",
    "    documents\n",
    ")\n",
    "print(f\"Nodes:{graph_documents_filtered[0].nodes}\")\n",
    "print(f\"Relationships:{graph_documents_filtered[0].relationships}\")\n",
    "```"
   ]
  },
  {
   "cell_type": "markdown",
   "metadata": {},
   "source": [
    "# Querying"
   ]
  },
  {
   "cell_type": "code",
   "execution_count": 49,
   "metadata": {},
   "outputs": [
    {
     "data": {
      "text/plain": [
       "{Marie Curie(Person) -> Chemist(Profession): HAS_PROFESSION,\n",
       " Marie Curie(Person) -> French(Nationality): HAS_NATIONALITY,\n",
       " Marie Curie(Person) -> Nobel Prize(Award): WON,\n",
       " Marie Curie(Person) -> Physicist(Profession): HAS_PROFESSION,\n",
       " Marie Curie(Person) -> Pierre Curie(Person): MARRIED_TO,\n",
       " Marie Curie(Person) -> Polish(Nationality): HAS_NATIONALITY,\n",
       " Marie Curie(Person) -> Professor(Profession): HAS_PROFESSION,\n",
       " Marie Curie(Person) -> Radioactivity(Scientific concept): RESEARCHED,\n",
       " Marie Curie(Person) -> University Of Paris(Organization): WORKED_AT,\n",
       " Pierre Curie(Person) -> Nobel Prize(Award): WON}"
      ]
     },
     "execution_count": 49,
     "metadata": {},
     "output_type": "execute_result"
    }
   ],
   "source": [
    "from knowledge_graph.traverse import Node\n",
    "\n",
    "graph_store.as_runnable(steps=2).invoke(Node(\"Marie Curie\", \"Person\"))"
   ]
  },
  {
   "cell_type": "code",
   "execution_count": 50,
   "metadata": {},
   "outputs": [
    {
     "data": {
      "text/plain": [
       "{Marie Curie(Person) -> Chemist(Profession): HAS_PROFESSION,\n",
       " Marie Curie(Person) -> French(Nationality): HAS_NATIONALITY,\n",
       " Marie Curie(Person) -> Nobel Prize(Award): WON,\n",
       " Marie Curie(Person) -> Physicist(Profession): HAS_PROFESSION,\n",
       " Marie Curie(Person) -> Pierre Curie(Person): MARRIED_TO,\n",
       " Marie Curie(Person) -> Polish(Nationality): HAS_NATIONALITY,\n",
       " Marie Curie(Person) -> Professor(Profession): HAS_PROFESSION,\n",
       " Marie Curie(Person) -> Radioactivity(Scientific concept): RESEARCHED,\n",
       " Marie Curie(Person) -> University Of Paris(Organization): WORKED_AT,\n",
       " Pierre Curie(Person) -> Nobel Prize(Award): WON}"
      ]
     },
     "execution_count": 50,
     "metadata": {},
     "output_type": "execute_result"
    }
   ],
   "source": [
    "await graph_store.as_runnable(steps=2).ainvoke(Node(\"Marie Curie\", \"Person\"))"
   ]
  },
  {
   "cell_type": "code",
   "execution_count": 51,
   "metadata": {},
   "outputs": [],
   "source": [
    "from operator import itemgetter\n",
    "from langchain_core.runnables import RunnableLambda, RunnablePassthrough\n",
    "from langchain_core.prompts import ChatPromptTemplate\n",
    "from knowledge_graph import extract_entities\n",
    "from langchain_openai import ChatOpenAI\n",
    "llm = ChatOpenAI(model_name = \"gpt-4\")\n",
    "\n",
    "def _combine_relations(relations):\n",
    "    return \"\\n\".join(map(repr, relations))\n",
    "\n",
    "ANSWER_PROMPT = (\n",
    "    \"The original question is given below.\"\n",
    "    \"This question has been used to retrieve information from a knowledge graph.\"\n",
    "    \"The matching triples are shown below.\"\n",
    "    \"Use the information in the triples to answer the original question.\\n\\n\"\n",
    "    \"Original Question: {question}\\n\\n\"\n",
    "    \"Knowledge Graph Triples:\\n{context}\\n\\n\"\n",
    "    \"Response:\"\n",
    ")\n",
    "\n",
    "chain = (\n",
    "    { \"question\": RunnablePassthrough() }\n",
    "    | RunnablePassthrough.assign(entities = extract_entities(llm))\n",
    "    | RunnablePassthrough.assign(triples = itemgetter(\"entities\") | graph_store.as_runnable())\n",
    "    | RunnablePassthrough.assign(context = itemgetter(\"triples\") | RunnableLambda(_combine_relations))\n",
    "    | ChatPromptTemplate.from_messages([ANSWER_PROMPT])\n",
    "    | llm\n",
    ")"
   ]
  },
  {
   "cell_type": "code",
   "execution_count": 52,
   "metadata": {},
   "outputs": [
    {
     "data": {
      "text/plain": [
       "AIMessage(content='Marie Curie is a Polish-French physicist, chemist, and professor who researched radioactivity. She worked at the University of Paris and is married to Pierre Curie. Both she and her husband have won the Nobel Prize.', response_metadata={'token_usage': {'completion_tokens': 47, 'prompt_tokens': 227, 'total_tokens': 274}, 'model_name': 'gpt-4', 'system_fingerprint': None, 'finish_reason': 'stop', 'logprobs': None}, id='run-92c5ca1b-2676-4c3b-a4be-444036ad34f2-0')"
      ]
     },
     "execution_count": 52,
     "metadata": {},
     "output_type": "execute_result"
    }
   ],
   "source": [
    "chain.invoke(\"Who is Marie Curie?\")"
   ]
  }
 ],
 "metadata": {
  "kernelspec": {
   "display_name": "knowledge-graph-bxUBmW8M-py3.11",
   "language": "python",
   "name": "python3"
  },
  "language_info": {
   "codemirror_mode": {
    "name": "ipython",
    "version": 3
   },
   "file_extension": ".py",
   "mimetype": "text/x-python",
   "name": "python",
   "nbconvert_exporter": "python",
   "pygments_lexer": "ipython3",
   "version": "3.11.4"
  }
 },
 "nbformat": 4,
 "nbformat_minor": 2
}
